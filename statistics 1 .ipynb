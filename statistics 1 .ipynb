{
 "cells": [
  {
   "cell_type": "markdown",
   "id": "ec5e202d-dc44-457f-812b-11e8a3c94a38",
   "metadata": {},
   "source": [
    "Que1: what is statistics?"
   ]
  },
  {
   "cell_type": "markdown",
   "id": "4e6ee212-67a6-4f0c-b5d6-f0bf050e910b",
   "metadata": {},
   "source": [
    "Ans: statistics is the science concerned with developing and studying methods for collecting, analyzing, interpreting, and presenting empirical data"
   ]
  },
  {
   "cell_type": "markdown",
   "id": "157db6af-1a56-46d8-a5c6-fe8be5c0590b",
   "metadata": {},
   "source": [
    "Que2:Define the different types of statistics and give an example of when each type might be used."
   ]
  },
  {
   "cell_type": "markdown",
   "id": "36d8b746-52a6-40df-a709-43b9f258188e",
   "metadata": {},
   "source": [
    "Ans: the two types of statistics are 1. Descriptive 2. Inferential"
   ]
  },
  {
   "cell_type": "markdown",
   "id": "fca0e3cd-e9de-40e5-8060-e9e237327d43",
   "metadata": {},
   "source": [
    "example of descriptive:a students grade point average(GPA). \n",
    "example of inferential:you randomly select a sample of 11th graders in your state and collect data on their STAscores and other characteristics."
   ]
  },
  {
   "cell_type": "markdown",
   "id": "0ffe9502-8b44-4e32-b81d-171ac87be96a",
   "metadata": {},
   "source": [
    "Que3: what are the different types of data and how do they differ from each other? provides an ex of each type of data."
   ]
  },
  {
   "cell_type": "markdown",
   "id": "544ce1f7-4bc8-46ad-ad93-b21c1ee7c66f",
   "metadata": {},
   "source": [
    "Ans: 1. Nominal data 2. ordinal data 3. discrete data 4. continuous data"
   ]
  },
  {
   "cell_type": "markdown",
   "id": "bca96e0f-55e6-461e-b7b8-7af583728751",
   "metadata": {},
   "source": [
    "1.Nominal data : these are the set of values that dont possess a nature ordering . lets understand this with some example. the color of a smartphone can be considered as a nominal data type as we cont compare one coloe with others.ex:it is not possible to start that 'Red' is greater than 'Blue'. the gender of a person is another one where we cant differential between male, feale , or others\n",
    "\n",
    "    "
   ]
  },
  {
   "cell_type": "markdown",
   "id": "e987f34d-1791-4e31-98ae-ede3a8ce3941",
   "metadata": {},
   "source": [
    "2. ordinal data: these types of values have a nature ordering while maintaining thier class of values.ex: if we consider the size of a clothing brand then we can easily sort them according to thir name tag in order of small<medium<large. "
   ]
  },
  {
   "cell_type": "markdown",
   "id": "8449aa32-eca4-4a8a-a5f7-4190e97248c1",
   "metadata": {},
   "source": [
    "3.discrete data: the  numerical values which fall under are integer or whole numbers are placed under this catagory. the number of speakers in the phone, cameras, cores in the processor, the numberof sims supported all these are some of the example of the examples of the discrete data type."
   ]
  },
  {
   "cell_type": "markdown",
   "id": "40590a69-34a8-4529-aac8-74b0e97c4544",
   "metadata": {},
   "source": [
    "4.continuous data: the fractional numbers are considee as continuous values . these can take the form of the operating frequency of the procesor, the android version of the phone, wifi frequency, temperature of the cores, and so on"
   ]
  },
  {
   "cell_type": "markdown",
   "id": "9a414492-1cc2-4eb0-9983-0321795ab0f2",
   "metadata": {},
   "source": [
    "Que 4 : explain the concept of levels of measurement and give an example of a variable for each level."
   ]
  },
  {
   "cell_type": "markdown",
   "id": "6cc0ba2a-9b45-453e-a605-c08259ca5ca8",
   "metadata": {},
   "source": [
    "Ans: In statistics,level of measurement is a classification that relates the values that are assigned to variables with each other. \n",
    "four measurement levels: 1. nominal scales : the data can only be categorized.2.ordinal scales : the data can be categorized and ranked.3. intervel scales: the data can be categorized and ranked, and evently spaced. 4. ratio scales: the data can be categorized, ranked, evently spaced and has a natural zero."
   ]
  },
  {
   "cell_type": "markdown",
   "id": "0b028742-9c06-4174-8d34-f56691c1b1de",
   "metadata": {},
   "source": [
    "Que5: why it is important to understand the level of measurement when analyzing data? provide an example to illustrate your answer."
   ]
  },
  {
   "cell_type": "markdown",
   "id": "7e7abc3c-dc93-48d9-8052-66a9b77850cb",
   "metadata": {},
   "source": [
    "the level of measurement determines the type of statistics analysis that can be conducted, and, therefore, the type of conclusions that can be deawn from the research."
   ]
  },
  {
   "cell_type": "markdown",
   "id": "f45a63df-aee6-4112-a9ba-54d695fe8e43",
   "metadata": {},
   "source": [
    "Que6: how nominal data type is different from ordinal data type?"
   ]
  },
  {
   "cell_type": "markdown",
   "id": "2e255efa-b3b9-4f7c-9fb7-934c389982b7",
   "metadata": {},
   "source": [
    "Ans: nominal data is classifies without a natural order or rank, whereas ordinal data has a predetermined or natural order."
   ]
  },
  {
   "cell_type": "markdown",
   "id": "af861747-7aba-48e7-9d49-27144395fd20",
   "metadata": {},
   "source": [
    "Que7: which type of plot can be used to display data in terms of range."
   ]
  },
  {
   "cell_type": "markdown",
   "id": "31996e20-4f20-4b88-9dc1-3a5ad89f6e26",
   "metadata": {},
   "source": [
    "Ans: Histogram. if the groups depicted in a bar chart are actually continuous numeric ranges, we can push the bars together to generate a histogram."
   ]
  },
  {
   "cell_type": "markdown",
   "id": "7b974c14-abb2-4ca7-b848-06b09cc9e4fe",
   "metadata": {},
   "source": [
    "Que8: describe the difference between descriptive and inferential statistics. give an example of each type of statistics and explain how they are used."
   ]
  },
  {
   "cell_type": "markdown",
   "id": "a071990a-5913-4073-aea1-30222df0a2c9",
   "metadata": {},
   "source": [
    "AnsDescriptive statistics summarize the characteristics of a data set. Inferential statistics allow you to test a hypothesis or assess whether your data is generalizable to the broader population.\n",
    "in described statistics, the data or collection data are described in a summarized way, whereas in inferential satatistics , we make use of it in order to explain the descriptive kind. both they are used on a large scale."
   ]
  },
  {
   "cell_type": "markdown",
   "id": "f9b6cc77-7a01-476f-bbda-927e66c06be2",
   "metadata": {},
   "source": [
    "Que9: what are some common measure of central tendency and variability used in statistics ? explain how each measure can be used to dscribe a dataset."
   ]
  },
  {
   "cell_type": "markdown",
   "id": "d41cf7c6-4d30-42dd-a182-33ee5fafd84a",
   "metadata": {},
   "source": [
    "Ans: measures of central tendency tell us what is common or typical about our variable. Three measures of central tendency are the mode, the median, and the mean. the mode is used almost exclusively with nominal level data , as it the only measure of central tendency available for such variables.A measure of centr!al tendency is a signal value that attempt to describe a set of data by identifying the central position within that set of data."
   ]
  },
  {
   "cell_type": "code",
   "execution_count": null,
   "id": "cd9ff3ca-5eb8-4712-a2c3-5213c9602fe2",
   "metadata": {},
   "outputs": [],
   "source": [
    "Que10.categorise the following datasets with respect to quantitative and qualitative data types:\n",
    "    1. greading in exam: A+, A, B, C+, C ,D ,E\n",
    "    Ans: Ordinal data \n",
    "    2.Colour of mangoes: yellow, green , orange, red\n",
    "    Ans: Nominal data \n",
    "    3.Height data of a class:[178.9 , 179, 179.5, 176, 177.2, 178.3, 178.8...]\n",
    "    Ans: Quantitative data\n",
    "    4.Number of mangoes xportd by a farm:[500,600, 478, 672,..]\n",
    "    Ans: Quantitative data"
   ]
  }
 ],
 "metadata": {
  "kernelspec": {
   "display_name": "Python 3 (ipykernel)",
   "language": "python",
   "name": "python3"
  },
  "language_info": {
   "codemirror_mode": {
    "name": "ipython",
    "version": 3
   },
   "file_extension": ".py",
   "mimetype": "text/x-python",
   "name": "python",
   "nbconvert_exporter": "python",
   "pygments_lexer": "ipython3",
   "version": "3.10.8"
  }
 },
 "nbformat": 4,
 "nbformat_minor": 5
}
